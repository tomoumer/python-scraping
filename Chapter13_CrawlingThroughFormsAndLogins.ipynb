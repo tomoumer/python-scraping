{
 "cells": [
  {
   "cell_type": "markdown",
   "metadata": {},
   "source": [
    "# Forms and Logins"
   ]
  },
  {
   "cell_type": "code",
   "execution_count": 6,
   "metadata": {},
   "outputs": [],
   "source": [
    "import requests\n",
    "from requests.auth import AuthBase\n",
    "from requests.auth import HTTPBasicAuth"
   ]
  },
  {
   "cell_type": "code",
   "execution_count": 1,
   "metadata": {},
   "outputs": [
    {
     "name": "stdout",
     "output_type": "stream",
     "text": [
      "Hello there, Tomo Umer!\n"
     ]
    }
   ],
   "source": [
    "params = {'firstname': 'Tomo', 'lastname': 'Umer'}\n",
    "r = requests.post(\n",
    "    'https://pythonscraping.com/pages/files/processing.php',\n",
    "    params)\n",
    "print(r.text)"
   ]
  },
  {
   "cell_type": "code",
   "execution_count": 2,
   "metadata": {},
   "outputs": [
    {
     "name": "stdout",
     "output_type": "stream",
     "text": [
      "{\"status\":\"1\",\"errmsg\":\"You have subscribed successfully!.\"}\n"
     ]
    }
   ],
   "source": [
    "params = {\n",
    "    'firstname': 'Tomo',\n",
    "    'lastname': 'Umer',\n",
    "    'email': 'tomo@DefinitellyMyRealEmail.com',\n",
    "    'action': 'eclg_add_newsletter'\n",
    "}\n",
    "r = requests.post('https://pythonscraping.com/wp-admin/admin-ajax.php',\n",
    "                   params)\n",
    "print(r.text)"
   ]
  },
  {
   "cell_type": "code",
   "execution_count": 3,
   "metadata": {},
   "outputs": [
    {
     "name": "stdout",
     "output_type": "stream",
     "text": [
      "Sorry, there was an error uploading your file.\n"
     ]
    }
   ],
   "source": [
    "files = {'uploadFile': open('logo.jpg', 'rb')}\n",
    "r = requests.post('http://pythonscraping.com/pages/processing2.php', files=files)\n",
    "print(r.text)"
   ]
  },
  {
   "cell_type": "markdown",
   "metadata": {},
   "source": [
    "Below is to login, get the cookies and continue to stay logged in while navigating the page."
   ]
  },
  {
   "cell_type": "code",
   "execution_count": 4,
   "metadata": {},
   "outputs": [
    {
     "name": "stdout",
     "output_type": "stream",
     "text": [
      "\n",
      "<h2>Welcome to the Website!</h2>\n",
      "You have logged in successfully! <br><a href=\"profile.php\">Check out your profile!</a>\n",
      "Cookie is set to:\n",
      "{'loggedin': '1', 'username': 'Tomo'}\n",
      "Going to profile page...\n",
      "Hey Tomo! Looks like you're still logged into the site!\n"
     ]
    }
   ],
   "source": [
    "params = {'username': 'Tomo', 'password': 'password'}\n",
    "r = requests.post(\n",
    "    'https://pythonscraping.com/pages/cookies/welcome.php',\n",
    "    params)\n",
    "print(r.text)\n",
    "\n",
    "print('Cookie is set to:')\n",
    "print(r.cookies.get_dict())\n",
    "print('Going to profile page...')\n",
    "r = requests.get('https://pythonscraping.com/pages/cookies/profile.php', \n",
    "                 cookies=r.cookies)\n",
    "print(r.text)"
   ]
  },
  {
   "cell_type": "code",
   "execution_count": 5,
   "metadata": {},
   "outputs": [
    {
     "name": "stdout",
     "output_type": "stream",
     "text": [
      "Cookie is set to:\n",
      "{'loggedin': '1', 'username': 'Tomo'}\n",
      "Going to profile page...\n",
      "Hey Tomo! Looks like you're still logged into the site!\n"
     ]
    }
   ],
   "source": [
    "session = requests.Session()\n",
    "\n",
    "params = {'username': 'Tomo', 'password': 'password'}\n",
    "s = session.post('https://pythonscraping.com/pages/cookies/welcome.php', params)\n",
    "print('Cookie is set to:')\n",
    "print(s.cookies.get_dict())\n",
    "print('Going to profile page...')\n",
    "s = session.get('https://pythonscraping.com/pages/cookies/profile.php')\n",
    "print(s.text)"
   ]
  },
  {
   "cell_type": "markdown",
   "metadata": {},
   "source": [
    "Lastly, 0auth forms"
   ]
  },
  {
   "cell_type": "code",
   "execution_count": 7,
   "metadata": {},
   "outputs": [
    {
     "name": "stdout",
     "output_type": "stream",
     "text": [
      "<p>Hello Tomo.</p><p>You entered password as your password.</p>\n"
     ]
    }
   ],
   "source": [
    "auth = HTTPBasicAuth('Tomo', 'password')\n",
    "r = requests.post(\n",
    "    url='https://pythonscraping.com/pages/auth/login.php', auth=auth)\n",
    "print(r.text)"
   ]
  },
  {
   "cell_type": "code",
   "execution_count": null,
   "metadata": {},
   "outputs": [],
   "source": []
  }
 ],
 "metadata": {
  "kernelspec": {
   "display_name": "Python 3 (ipykernel)",
   "language": "python",
   "name": "python3"
  },
  "language_info": {
   "codemirror_mode": {
    "name": "ipython",
    "version": 3
   },
   "file_extension": ".py",
   "mimetype": "text/x-python",
   "name": "python",
   "nbconvert_exporter": "python",
   "pygments_lexer": "ipython3",
   "version": "3.11.8"
  }
 },
 "nbformat": 4,
 "nbformat_minor": 2
}
